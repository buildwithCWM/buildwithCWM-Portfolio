{
 "cells": [
  {
   "cell_type": "markdown",
   "id": "3a295d85-beb3-4813-9867-79b5f7981ae8",
   "metadata": {},
   "source": [
    "# Project Title: Basic Unit Converter\n",
    "\n",
    "> **By:** Chua Wee Ming  \n",
    "> **Date:** 2025-08-06"
   ]
  },
  {
   "cell_type": "markdown",
   "id": "4918df17-7cc3-42af-a1d1-7d24a7da742e",
   "metadata": {},
   "source": [
    "## Learning Objectives\n",
    "- Practice modular function design\n",
    "- Use `while` loops for continuous user interaction\n",
    "- Validate integer and float inputs\n",
    "- Work with control flow (`if-elif-else`)\n",
    "- Format strings and numbers cleanly"
   ]
  },
  {
   "cell_type": "markdown",
   "id": "b1016236-dcce-4695-852d-ac113d3180dc",
   "metadata": {},
   "source": [
    "## How It Works\n",
    "1. User chooses a conversion option from the menu (1 to 10).\n",
    "2. User is prompted to input a value to convert.\n",
    "3. Result is shown using correct unit conversion logic.\n",
    "4. User can repeat the process or exit the program.\n",
    "\n",
    "### Conversion Options:\n",
    "| Option | Conversion                  |\n",
    "|--------|-----------------------------|\n",
    "| 1      | Kilometers to Miles         |\n",
    "| 2      | Miles to Kilometers         |\n",
    "| 3      | Celsius to Fahrenheit       |\n",
    "| 4      | Fahrenheit to Celsius       |\n",
    "| 5      | Kilograms to Pounds         |\n",
    "| 6      | Pounds to Kilograms         |\n",
    "| 7      | Centimeters to Inches       |\n",
    "| 8      | Inches to Centimeters       |\n",
    "| 9      | Hours to Minutes            |\n",
    "| 10     | Hours to Seconds            |"
   ]
  },
  {
   "cell_type": "code",
   "execution_count": 11,
   "id": "640d5f9c-9f2e-4273-9f91-ec73faab115b",
   "metadata": {},
   "outputs": [
    {
     "name": "stdout",
     "output_type": "stream",
     "text": [
      "\n",
      "     ****************************************************************************\n",
      "        ██████╗░░█████╗░░██████╗██╗░█████╗░  ██╗░░░██╗███╗░░██╗██╗████████╗\n",
      "        ██╔══██╗██╔══██╗██╔════╝██║██╔══██╗  ██║░░░██║████╗░██║██║╚══██╔══╝\n",
      "        ██████╦╝███████║╚█████╗░██║██║░░╚═╝  ██║░░░██║██╔██╗██║██║░░░██║░░░\n",
      "        ██╔══██╗██╔══██║░╚═══██╗██║██║░░██╗  ██║░░░██║██║╚████║██║░░░██║░░░\n",
      "        ██████╦╝██║░░██║██████╔╝██║╚█████╔╝  ╚██████╔╝██║░╚███║██║░░░██║░░░\n",
      "        ╚═════╝░╚═╝░░╚═╝╚═════╝░╚═╝░╚════╝░  ░╚═════╝░╚═╝░░╚══╝╚═╝░░░╚═╝░░░\n",
      "    \n",
      "     ░█████╗░░█████╗░███╗░░██╗██╗░░░██╗███████╗██████╗░████████╗███████╗██████╗░\n",
      "     ██╔══██╗██╔══██╗████╗░██║██║░░░██║██╔════╝██╔══██╗╚══██╔══╝██╔════╝██╔══██╗\n",
      "     ██║░░╚═╝██║░░██║██╔██╗██║╚██╗░██╔╝█████╗░░██████╔╝░░░██║░░░█████╗░░██████╔╝\n",
      "     ██║░░██╗██║░░██║██║╚████║░╚████╔╝░██╔══╝░░██╔══██╗░░░██║░░░██╔══╝░░██╔══██╗\n",
      "     ╚█████╔╝╚█████╔╝██║░╚███║░░╚██╔╝░░███████╗██║░░██║░░░██║░░░███████╗██║░░██║\n",
      "     ░╚════╝░░╚════╝░╚═╝░░╚══╝░░░╚═╝░░░╚══════╝╚═╝░░╚═╝░░░╚═╝░░░╚══════╝╚═╝░░╚═╝\n",
      "     ****************************************************************************\n",
      "     \n",
      "     Welcome to the Basic Unit Converter! \n",
      "     \n",
      "     Menu:\n",
      "      1. Kilometers to Miles\n",
      "      2. Miles to Kilometers\n",
      "      3. Celcius to Fahrenheit\n",
      "      4. Fahrenheit to Celcius\n",
      "      5. Kilograms to pounds\n",
      "      6. Pounds to Kilograms\n",
      "      7. Centimeters to Inches\n",
      "      8. Inches to Centimeters\n",
      "      9. Hours to Minutes\n",
      "     10. Hours to Seconds\n",
      "     \n"
     ]
    },
    {
     "name": "stdin",
     "output_type": "stream",
     "text": [
      "Please enter what unit conversion you want to perform (Choose from 1 - 10): one\n"
     ]
    },
    {
     "name": "stdout",
     "output_type": "stream",
     "text": [
      "\n",
      "Please enter a valid number\n",
      "\n"
     ]
    },
    {
     "name": "stdin",
     "output_type": "stream",
     "text": [
      "Please enter what unit conversion you want to perform (Choose from 1 - 10): 1\n",
      "Please enter the value that you want to convert: 50\n"
     ]
    },
    {
     "name": "stdout",
     "output_type": "stream",
     "text": [
      "\n",
      "After conversion, 50.0 kilometers is 31.07 miles\n",
      "\n"
     ]
    },
    {
     "name": "stdin",
     "output_type": "stream",
     "text": [
      "\n",
      "Do you want to convert another value? Please enter 'Yes' or 'No':\n",
      " 435\n"
     ]
    },
    {
     "name": "stdout",
     "output_type": "stream",
     "text": [
      "\n",
      "Please enter a valid 'Yes' or 'No'.\n",
      "\n"
     ]
    },
    {
     "name": "stdin",
     "output_type": "stream",
     "text": [
      "\n",
      "Do you want to convert another value? Please enter 'Yes' or 'No':\n",
      " yEs\n",
      "Please enter what unit conversion you want to perform (Choose from 1 - 10): 2\n",
      "Please enter the value that you want to convert: 31.07\n"
     ]
    },
    {
     "name": "stdout",
     "output_type": "stream",
     "text": [
      "\n",
      "After conversion, 31.07 miles is 50.00 kilometers\n",
      "\n"
     ]
    },
    {
     "name": "stdin",
     "output_type": "stream",
     "text": [
      "\n",
      "Do you want to convert another value? Please enter 'Yes' or 'No':\n",
      " n\n"
     ]
    },
    {
     "name": "stdout",
     "output_type": "stream",
     "text": [
      "\n",
      "Okay, Goodbye!\n"
     ]
    }
   ],
   "source": [
    "def main():\n",
    "    def banner():\n",
    "        print(\"\"\"\n",
    "     ****************************************************************************\n",
    "        ██████╗░░█████╗░░██████╗██╗░█████╗░  ██╗░░░██╗███╗░░██╗██╗████████╗\n",
    "        ██╔══██╗██╔══██╗██╔════╝██║██╔══██╗  ██║░░░██║████╗░██║██║╚══██╔══╝\n",
    "        ██████╦╝███████║╚█████╗░██║██║░░╚═╝  ██║░░░██║██╔██╗██║██║░░░██║░░░\n",
    "        ██╔══██╗██╔══██║░╚═══██╗██║██║░░██╗  ██║░░░██║██║╚████║██║░░░██║░░░\n",
    "        ██████╦╝██║░░██║██████╔╝██║╚█████╔╝  ╚██████╔╝██║░╚███║██║░░░██║░░░\n",
    "        ╚═════╝░╚═╝░░╚═╝╚═════╝░╚═╝░╚════╝░  ░╚═════╝░╚═╝░░╚══╝╚═╝░░░╚═╝░░░\n",
    "    \n",
    "     ░█████╗░░█████╗░███╗░░██╗██╗░░░██╗███████╗██████╗░████████╗███████╗██████╗░\n",
    "     ██╔══██╗██╔══██╗████╗░██║██║░░░██║██╔════╝██╔══██╗╚══██╔══╝██╔════╝██╔══██╗\n",
    "     ██║░░╚═╝██║░░██║██╔██╗██║╚██╗░██╔╝█████╗░░██████╔╝░░░██║░░░█████╗░░██████╔╝\n",
    "     ██║░░██╗██║░░██║██║╚████║░╚████╔╝░██╔══╝░░██╔══██╗░░░██║░░░██╔══╝░░██╔══██╗\n",
    "     ╚█████╔╝╚█████╔╝██║░╚███║░░╚██╔╝░░███████╗██║░░██║░░░██║░░░███████╗██║░░██║\n",
    "     ░╚════╝░░╚════╝░╚═╝░░╚══╝░░░╚═╝░░░╚══════╝╚═╝░░╚═╝░░░╚═╝░░░╚══════╝╚═╝░░╚═╝\n",
    "     ****************************************************************************\n",
    "     \n",
    "     Welcome to the Basic Unit Converter! \n",
    "     \n",
    "     Menu:\n",
    "      1. Kilometers to Miles\n",
    "      2. Miles to Kilometers\n",
    "      3. Celcius to Fahrenheit\n",
    "      4. Fahrenheit to Celcius\n",
    "      5. Kilograms to pounds\n",
    "      6. Pounds to Kilograms\n",
    "      7. Centimeters to Inches\n",
    "      8. Inches to Centimeters\n",
    "      9. Hours to Minutes\n",
    "     10. Hours to Seconds\n",
    "     \"\"\")\n",
    "    \n",
    "    def get_input(user_prompt):\n",
    "        \"\"\"Get and validate integer input from user.\"\"\"\n",
    "        while True:\n",
    "            try:\n",
    "                return int(input(user_prompt))\n",
    "            except ValueError:\n",
    "                    print(\"\\nPlease enter a valid number\\n\")\n",
    "    \n",
    "    def get_value(user_prompt):\n",
    "        \"\"\"Get and validate float input from user.\"\"\"\n",
    "        while True:\n",
    "            try:\n",
    "                return float(input(user_prompt))\n",
    "            except ValueError:\n",
    "                print(\"\\nPlease enter a valid number\\n\")\n",
    "        \n",
    "    def convert_it(menu_no, unit_to_convert):\n",
    "        \"\"\"Apply conversion method based on user choice from menu number\"\"\"\n",
    "        if menu_no == 1:\n",
    "            return f\"\\nAfter conversion, {unit_to_convert} kilometers is {(unit_to_convert * 0.621371):.2f} miles\\n\"\n",
    "        elif menu_no == 2:\n",
    "            return f\"\\nAfter conversion, {unit_to_convert} miles is {(unit_to_convert/ 0.621371):.2f} kilometers\\n\"\n",
    "        elif menu_no == 3:\n",
    "            return f\"\\nAfter conversion, {unit_to_convert}°c is {((unit_to_convert * 9/5) + 32):.2f}°f\\n\"\n",
    "        elif menu_no == 4:\n",
    "            return f\"\\nAfter conversion, {unit_to_convert}°f is {((unit_to_convert - 32) * 5/9):.2f}°c\\n\"\n",
    "        elif menu_no == 5:\n",
    "            return f\"\\nAfter conversion, {unit_to_convert} kilograms is {(unit_to_convert * 2.20462):.2f} pounds\\n\"\n",
    "        elif menu_no == 6:\n",
    "            return f\"\\nAfter conversion, {unit_to_convert} pounds is {(unit_to_convert / 2.20462):.2f} kilograms\\n\"\n",
    "        elif menu_no == 7:\n",
    "            return f\"\\nAfter conversion, {unit_to_convert} centimeters is {(unit_to_convert / 2.54):.2f} inches\\n\"\n",
    "        elif menu_no == 8:\n",
    "            return f\"\\nAfter conversion, {unit_to_convert} inches is {(unit_to_convert * 2.54):.2f} centimeters\\n\"\n",
    "        elif menu_no == 9:\n",
    "            return f\"\\nAfter conversion, {unit_to_convert} hours is {(unit_to_convert * 60):.2f} minutes\\n\"\n",
    "        elif menu_no == 10:\n",
    "            return f\"\\nAfter conversion, {unit_to_convert} hours is {(unit_to_convert * 3600):.2f} seconds\\n\"\n",
    "    \n",
    "    def cont_converting(user_prompt):\n",
    "        \"\"\"Let user decide to continue or end the program.\"\"\"\n",
    "        while True:\n",
    "            user_choice = input(user_prompt).strip().lower()\n",
    "            if user_choice in (\"no\", \"n\"):\n",
    "                return False\n",
    "            elif user_choice in (\"yes\", \"y\"):\n",
    "                return True\n",
    "            else:\n",
    "                print(\"\\nPlease enter a valid 'Yes' or 'No'.\\n\")\n",
    "                       \n",
    "    while True:\n",
    "        banner()\n",
    "        user_choice = get_input(\"Please enter what unit conversion you want to perform (Choose from 1 - 10):\")\n",
    "        if user_choice in (1, 2, 3, 4, 5, 6, 7, 8, 9, 10):\n",
    "            print(convert_it(user_choice, get_value(\"Please enter the value that you want to convert:\")))\n",
    "        else:\n",
    "            print(\"Invalid choice.\")\n",
    "            \n",
    "        # Continue converting or end\n",
    "        if not cont_converting(\"\\nDo you want to convert another value? Please enter 'Yes' or 'No':\\n\"):\n",
    "            print(\"\\nOkay, Goodbye!\")\n",
    "            break\n",
    "        \n",
    "if __name__ == \"__main__\":\n",
    "    main()                "
   ]
  },
  {
   "cell_type": "markdown",
   "id": "2858696c-2053-4d38-a474-662df646522e",
   "metadata": {},
   "source": [
    "## Reflections\n",
    "This mini-project helped me refresh key concepts like:\n",
    "- Writing reusable functions\n",
    "- Validating user input with `try`/`except`\n",
    "- Using formatted strings for clean output\n",
    "- Thinking through edge cases (e.g. wrong menu number or bad input)"
   ]
  },
  {
   "cell_type": "markdown",
   "id": "421a9ba5-6123-4129-a911-72ee5f601a6a",
   "metadata": {},
   "source": [
    "# Next Steps\n",
    "1. Seperating UI from the logic\n",
    "2. Dictionary based approach to store the conversion formulas."
   ]
  }
 ],
 "metadata": {
  "kernelspec": {
   "display_name": "Python [conda env:base] *",
   "language": "python",
   "name": "conda-base-py"
  },
  "language_info": {
   "codemirror_mode": {
    "name": "ipython",
    "version": 3
   },
   "file_extension": ".py",
   "mimetype": "text/x-python",
   "name": "python",
   "nbconvert_exporter": "python",
   "pygments_lexer": "ipython3",
   "version": "3.12.7"
  }
 },
 "nbformat": 4,
 "nbformat_minor": 5
}
