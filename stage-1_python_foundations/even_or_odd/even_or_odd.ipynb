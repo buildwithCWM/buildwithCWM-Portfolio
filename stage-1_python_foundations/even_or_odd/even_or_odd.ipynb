{
 "cells": [
  {
   "cell_type": "markdown",
   "id": "a5ec872f-0c86-49d8-a668-16e32059589d",
   "metadata": {},
   "source": [
    "# Project Title: Even or Odd Detector\n",
    "\n",
    "> **By:** Chua Wee Ming  \n",
    "> **Date:** 2025-07-24"
   ]
  },
  {
   "cell_type": "markdown",
   "id": "7dd40490-cf1b-4091-8df6-1eee0e59c82b",
   "metadata": {},
   "source": [
    "## Objective\n",
    "A simple program where the user will enter a number and it will be determined if it's **even** or **odd**.\n",
    "If the user enters the number `42`, the program will exit with a special message."
   ]
  },
  {
   "cell_type": "markdown",
   "id": "88bd8482-941f-495a-aecd-967b15b1596c",
   "metadata": {},
   "source": [
    "## Skills Practiced\n",
    "- `while` loops\n",
    "- `try`/`except` for input validation\n",
    "- `%` (modulo) operator\n",
    "- `break` and `continue`\n",
    "- `def` functions"
   ]
  },
  {
   "cell_type": "markdown",
   "id": "f3eb5b0d-8b2a-4af9-8271-5e14650e0134",
   "metadata": {},
   "source": [
    "## How It Works\n",
    "1. Ask the user for a number (loop until they enter `42` or choose `exit`)\n",
    "2. If input is invalid (not a number), prompt again\n",
    "3. If valid:\n",
    "   - Show whether the number's `even` or `odd`\n",
    "   - If the number is `42`, exit the loop with a message"
   ]
  },
  {
   "cell_type": "markdown",
   "id": "6b7be369-25df-4a89-af11-e3d724ff12f6",
   "metadata": {},
   "source": [
    "## Code"
   ]
  },
  {
   "cell_type": "code",
   "execution_count": 4,
   "id": "dd665d5f-b52b-4b2b-b592-1d60050a95dd",
   "metadata": {},
   "outputs": [
    {
     "name": "stdout",
     "output_type": "stream",
     "text": [
      "\n",
      "*****************************************************************************\n",
      "░█████╗░██████╗░██████╗░  ██╗███╗░░██╗██╗  ███████╗██╗░░░██╗███████╗███╗░░██╗\n",
      "██╔══██╗██╔══██╗██╔══██╗  ╚█║████╗░██║╚█║  ██╔════╝██║░░░██║██╔════╝████╗░██║\n",
      "██║░░██║██║░░██║██║░░██║  ░╚╝██╔██╗██║░╚╝  █████╗░░╚██╗░██╔╝█████╗░░██╔██╗██║\n",
      "██║░░██║██║░░██║██║░░██║  ░░░██║╚████║░░░  ██╔══╝░░░╚████╔╝░██╔══╝░░██║╚████║\n",
      "╚█████╔╝██████╔╝██████╔╝  ░░░██║░╚███║░░░  ███████╗░░╚██╔╝░░███████╗██║░╚███║\n",
      "░╚════╝░╚═════╝░╚═════╝░  ░░░╚═╝░░╚══╝░░░  ╚══════╝░░░╚═╝░░░╚══════╝╚═╝░░╚══╝\n",
      "\n",
      "     ██████╗░███████╗████████╗███████╗░█████╗░████████╗░█████╗░██████╗░\n",
      "     ██╔══██╗██╔════╝╚══██╔══╝██╔════╝██╔══██╗╚══██╔══╝██╔══██╗██╔══██╗\n",
      "     ██║░░██║█████╗░░░░░██║░░░█████╗░░██║░░╚═╝░░░██║░░░██║░░██║██████╔╝\n",
      "     ██║░░██║██╔══╝░░░░░██║░░░██╔══╝░░██║░░██╗░░░██║░░░██║░░██║██╔══██╗\n",
      "     ██████╔╝███████╗░░░██║░░░███████╗╚█████╔╝░░░██║░░░╚█████╔╝██║░░██║\n",
      "     ╚═════╝░╚══════╝░░░╚═╝░░░╚══════╝░╚════╝░░░░╚═╝░░░░╚════╝░╚═╝░░╚═╝\n",
      "*****************************************************************************\n",
      "Welcome to the ODD & EVEN detector!\n",
      "Key in a special number for an Easter Egg! (hint: 'The Hitchhiker's guide to the galaxy')\n",
      "\n"
     ]
    },
    {
     "name": "stdin",
     "output_type": "stream",
     "text": [
      "Enter a number: five\n"
     ]
    },
    {
     "name": "stdout",
     "output_type": "stream",
     "text": [
      "Please enter a valid number.\n"
     ]
    },
    {
     "name": "stdin",
     "output_type": "stream",
     "text": [
      "Enter a number: 5\n"
     ]
    },
    {
     "name": "stdout",
     "output_type": "stream",
     "text": [
      "5 is an odd number.\n",
      "\n"
     ]
    },
    {
     "name": "stdin",
     "output_type": "stream",
     "text": [
      "Do you want to try another number? Type 'Yes' or 'No':\n",
      " 435\n"
     ]
    },
    {
     "name": "stdout",
     "output_type": "stream",
     "text": [
      "Invalid reply. Please only enter 'Yes' or 'No'.\n",
      "\n"
     ]
    },
    {
     "name": "stdin",
     "output_type": "stream",
     "text": [
      "Do you want to try another number? Type 'Yes' or 'No':\n",
      " yEs\n"
     ]
    },
    {
     "name": "stdout",
     "output_type": "stream",
     "text": [
      "\n"
     ]
    },
    {
     "name": "stdin",
     "output_type": "stream",
     "text": [
      "Enter a number: 10\n"
     ]
    },
    {
     "name": "stdout",
     "output_type": "stream",
     "text": [
      "10 is an even number.\n",
      "\n"
     ]
    },
    {
     "name": "stdin",
     "output_type": "stream",
     "text": [
      "Do you want to try another number? Type 'Yes' or 'No':\n",
      " yeS\n"
     ]
    },
    {
     "name": "stdout",
     "output_type": "stream",
     "text": [
      "\n"
     ]
    },
    {
     "name": "stdin",
     "output_type": "stream",
     "text": [
      "Enter a number: 42\n"
     ]
    },
    {
     "name": "stdout",
     "output_type": "stream",
     "text": [
      "The answer to life, the universe, and everything! Goodbye!\n"
     ]
    }
   ],
   "source": [
    "def end_loop():\n",
    "    \"\"\"Check if User wants to continue and return True or False, loops until valid input\"\"\"\n",
    "    while True:\n",
    "        end_it = input(\"Do you want to try another number? Type 'Yes' or 'No':\\n\").lower()\n",
    "        if end_it == 'no':\n",
    "            print(\"Ok, bye!\")\n",
    "            return True\n",
    "        elif end_it == 'yes':\n",
    "            print(\"\")\n",
    "            return False\n",
    "        else:\n",
    "            print(\"Invalid reply. Please only enter 'Yes' or 'No'.\\n\")\n",
    "\n",
    "print('''\n",
    "*****************************************************************************\n",
    "░█████╗░██████╗░██████╗░  ██╗███╗░░██╗██╗  ███████╗██╗░░░██╗███████╗███╗░░██╗\n",
    "██╔══██╗██╔══██╗██╔══██╗  ╚█║████╗░██║╚█║  ██╔════╝██║░░░██║██╔════╝████╗░██║\n",
    "██║░░██║██║░░██║██║░░██║  ░╚╝██╔██╗██║░╚╝  █████╗░░╚██╗░██╔╝█████╗░░██╔██╗██║\n",
    "██║░░██║██║░░██║██║░░██║  ░░░██║╚████║░░░  ██╔══╝░░░╚████╔╝░██╔══╝░░██║╚████║\n",
    "╚█████╔╝██████╔╝██████╔╝  ░░░██║░╚███║░░░  ███████╗░░╚██╔╝░░███████╗██║░╚███║\n",
    "░╚════╝░╚═════╝░╚═════╝░  ░░░╚═╝░░╚══╝░░░  ╚══════╝░░░╚═╝░░░╚══════╝╚═╝░░╚══╝\n",
    "\n",
    "     ██████╗░███████╗████████╗███████╗░█████╗░████████╗░█████╗░██████╗░\n",
    "     ██╔══██╗██╔════╝╚══██╔══╝██╔════╝██╔══██╗╚══██╔══╝██╔══██╗██╔══██╗\n",
    "     ██║░░██║█████╗░░░░░██║░░░█████╗░░██║░░╚═╝░░░██║░░░██║░░██║██████╔╝\n",
    "     ██║░░██║██╔══╝░░░░░██║░░░██╔══╝░░██║░░██╗░░░██║░░░██║░░██║██╔══██╗\n",
    "     ██████╔╝███████╗░░░██║░░░███████╗╚█████╔╝░░░██║░░░╚█████╔╝██║░░██║\n",
    "     ╚═════╝░╚══════╝░░░╚═╝░░░╚══════╝░╚════╝░░░░╚═╝░░░░╚════╝░╚═╝░░╚═╝\n",
    "*****************************************************************************''')\n",
    "print(\"Welcome to the ODD & EVEN detector!\\nKey in a special number for an Easter Egg! (hint: 'The Hitchhiker's guide to the galaxy')\\n\")\n",
    "is_end = False\n",
    "\n",
    "while not is_end:\n",
    "    try:\n",
    "        user_num = int(input(\"Enter a number:\"))\n",
    "        if user_num == 42:\n",
    "            print(\"The answer to life, the universe, and everything! Goodbye!\")\n",
    "            break\n",
    "            \n",
    "        if user_num % 2 == 0:\n",
    "            print(f\"{user_num} is an even number.\\n\")\n",
    "        else:\n",
    "            print(f\"{user_num} is an odd number.\\n\")   \n",
    "\n",
    "        is_end = end_loop()\n",
    "    \n",
    "    except ValueError:\n",
    "        print(\"Please enter a valid number.\")"
   ]
  },
  {
   "cell_type": "markdown",
   "id": "a67b5d96-4dab-4cc9-94f0-8e9abf1b52b8",
   "metadata": {
    "jp-MarkdownHeadingCollapsed": true
   },
   "source": [
    "# Reflections\n",
    "    1. Used `try`/`except` to guard against possible errors.\n",
    "    2. Improved program flow by wrapping User's choice to replay in a separate function `is_end`.\n",
    "    3. Try all types of replies a User might key in to try and see if any errors."
   ]
  },
  {
   "cell_type": "markdown",
   "id": "dd4e8e8c-27d4-4b01-8c9f-5aaf2bd20e00",
   "metadata": {},
   "source": [
    "# Next Steps\n",
    "    1. Wrapping the banner into a `print_banner()` function.\n",
    "    2. Adding `.strip().lower()` to `end_it` instead of just `.lower()` in case User accidentally key in a space.\n",
    "    3. Wrap entire program into a `main()` function."
   ]
  }
 ],
 "metadata": {
  "kernelspec": {
   "display_name": "Python [conda env:base] *",
   "language": "python",
   "name": "conda-base-py"
  },
  "language_info": {
   "codemirror_mode": {
    "name": "ipython",
    "version": 3
   },
   "file_extension": ".py",
   "mimetype": "text/x-python",
   "name": "python",
   "nbconvert_exporter": "python",
   "pygments_lexer": "ipython3",
   "version": "3.12.7"
  }
 },
 "nbformat": 4,
 "nbformat_minor": 5
}
