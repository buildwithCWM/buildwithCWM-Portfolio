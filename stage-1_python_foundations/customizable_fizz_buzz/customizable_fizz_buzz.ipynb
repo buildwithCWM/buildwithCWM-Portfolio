{
 "cells": [
  {
   "cell_type": "markdown",
   "id": "a5ec872f-0c86-49d8-a668-16e32059589d",
   "metadata": {},
   "source": [
    "# Project Title: Customizable FizzBuzz\n",
    "\n",
    "> **By:** Chua Wee Ming  \n",
    "> **Date:** 2025-07-24"
   ]
  },
  {
   "cell_type": "markdown",
   "id": "7dd40490-cf1b-4091-8df6-1eee0e59c82b",
   "metadata": {
    "jp-MarkdownHeadingCollapsed": true
   },
   "source": [
    "## Objective\n",
    "Create a program that lets users choose:\n",
    "- A starting and ending number\n",
    "- Two divisors (for custom Fizz and Buzz)\n",
    "\n",
    "Prints numbers from start to end:\n",
    "- Replace with `Fizz` if divisible by the first divisor\n",
    "- Replace with `Buzz` if divisible by the second\n",
    "- Replace with `FizzBuzz` if divisible by both"
   ]
  },
  {
   "cell_type": "markdown",
   "id": "88bd8482-941f-495a-aecd-967b15b1596c",
   "metadata": {},
   "source": [
    "## Skills Practiced\n",
    "- `while` loops  \n",
    "- `try`/`except` input validation  \n",
    "- `range()` and `%` operator  \n",
    "- Clean control flow with `continue`, `break`  \n",
    "- Designing user-driven logic"
   ]
  },
  {
   "cell_type": "markdown",
   "id": "f3eb5b0d-8b2a-4af9-8271-5e14650e0134",
   "metadata": {},
   "source": [
    "## How It Works\n",
    "1. Ask the user for a starting number, an ending number, and two divisors\n",
    "2. If input is invalid (not a number, starting number > ending number, or both divisors are the same), prompt again\n",
    "3. If valid:\n",
    "   - Print out a list of numbers from User and state Fizz, Buzz, or FizzBuzz based on User's divisors\n",
    "   - Repeats if User chooses to continue"
   ]
  },
  {
   "cell_type": "markdown",
   "id": "6b7be369-25df-4a89-af11-e3d724ff12f6",
   "metadata": {},
   "source": [
    "## Code"
   ]
  },
  {
   "cell_type": "code",
   "execution_count": 52,
   "id": "1c814044-29ff-4516-a4cb-fccb3fcf27d6",
   "metadata": {},
   "outputs": [
    {
     "name": "stdout",
     "output_type": "stream",
     "text": [
      "\n",
      "            ************************************************************************************************\n",
      "            \n",
      "            ░█████╗░██╗░░░██╗░██████╗████████╗░█████╗░███╗░░░███╗██╗███████╗░█████╗░██████╗░██╗░░░░░███████╗\n",
      "            ██╔══██╗██║░░░██║██╔════╝╚══██╔══╝██╔══██╗████╗░████║██║╚════██║██╔══██╗██╔══██╗██║░░░░░██╔════╝\n",
      "            ██║░░╚═╝██║░░░██║╚█████╗░░░░██║░░░██║░░██║██╔████╔██║██║░░███╔═╝███████║██████╦╝██║░░░░░█████╗░░\n",
      "            ██║░░██╗██║░░░██║░╚═══██╗░░░██║░░░██║░░██║██║╚██╔╝██║██║██╔══╝░░██╔══██║██╔══██╗██║░░░░░██╔══╝░░\n",
      "            ╚█████╔╝╚██████╔╝██████╔╝░░░██║░░░╚█████╔╝██║░╚═╝░██║██║███████╗██║░░██║██████╦╝███████╗███████╗\n",
      "            ░╚════╝░░╚═════╝░╚═════╝░░░░╚═╝░░░░╚════╝░╚═╝░░░░░╚═╝╚═╝╚══════╝╚═╝░░╚═╝╚═════╝░╚══════╝╚══════╝\n",
      "            \n",
      "                              ███████╗██╗███████╗███████╗██████╗░██╗░░░██╗███████╗███████╗\n",
      "                              ██╔════╝██║╚════██║╚════██║██╔══██╗██║░░░██║╚════██║╚════██║\n",
      "                              █████╗░░██║░░███╔═╝░░███╔═╝██████╦╝██║░░░██║░░███╔═╝░░███╔═╝\n",
      "                              ██╔══╝░░██║██╔══╝░░██╔══╝░░██╔══██╗██║░░░██║██╔══╝░░██╔══╝░░\n",
      "                              ██║░░░░░██║███████╗███████╗██████╦╝╚██████╔╝███████╗███████╗\n",
      "                              ╚═╝░░░░░╚═╝╚══════╝╚══════╝╚═════╝░░╚═════╝░╚══════╝╚══════╝\n",
      "            ************************************************************************************************\n",
      "            \n",
      "            Welcome to the Customizable FizzBuzz Generator!\n",
      "            \n",
      "            How to play:\n",
      "            1. Input the starting and ending number for the range.\n",
      "            2. Choose 2 divisors, one for Fizz and the other for Buzz.\n",
      "            3. Decide if you want your own customized word for Fizz and Buzz.\n",
      "            4. Your list will be generated!\n",
      "            \n"
     ]
    },
    {
     "name": "stdin",
     "output_type": "stream",
     "text": [
      "Please enter the starting number: fifteen\n"
     ]
    },
    {
     "name": "stdout",
     "output_type": "stream",
     "text": [
      "\n",
      "Please enter a valid number\n",
      "\n"
     ]
    },
    {
     "name": "stdin",
     "output_type": "stream",
     "text": [
      "Please enter the starting number: 15\n",
      "Please enter the ending number: one\n"
     ]
    },
    {
     "name": "stdout",
     "output_type": "stream",
     "text": [
      "\n",
      "Please enter a valid number\n",
      "\n"
     ]
    },
    {
     "name": "stdin",
     "output_type": "stream",
     "text": [
      "Please enter the ending number: 1\n"
     ]
    },
    {
     "name": "stdout",
     "output_type": "stream",
     "text": [
      "\n",
      "Your starting number cannot be bigger than the ending number!\n",
      "\n"
     ]
    },
    {
     "name": "stdin",
     "output_type": "stream",
     "text": [
      "Please enter the starting number: 1\n",
      "Please enter the ending number: 15\n"
     ]
    },
    {
     "name": "stdout",
     "output_type": "stream",
     "text": [
      "\n"
     ]
    },
    {
     "name": "stdin",
     "output_type": "stream",
     "text": [
      "Please enter the first divisor: two\n"
     ]
    },
    {
     "name": "stdout",
     "output_type": "stream",
     "text": [
      "\n",
      "Please enter a valid number\n",
      "\n"
     ]
    },
    {
     "name": "stdin",
     "output_type": "stream",
     "text": [
      "Please enter the first divisor: 2\n",
      "Please enter the second divisor: 2\n"
     ]
    },
    {
     "name": "stdout",
     "output_type": "stream",
     "text": [
      "\n",
      "Both divisors cannot be the same number, please try again.\n",
      "\n"
     ]
    },
    {
     "name": "stdin",
     "output_type": "stream",
     "text": [
      "Please enter the first divisor: 2\n",
      "Please enter the second divisor: 0\n"
     ]
    },
    {
     "name": "stdout",
     "output_type": "stream",
     "text": [
      "\n",
      "Divisors cannot be zero!\n",
      "\n"
     ]
    },
    {
     "name": "stdin",
     "output_type": "stream",
     "text": [
      "Please enter the first divisor: 2\n",
      "Please enter the second divisor: 3\n"
     ]
    },
    {
     "name": "stdout",
     "output_type": "stream",
     "text": [
      "\n"
     ]
    },
    {
     "name": "stdin",
     "output_type": "stream",
     "text": [
      "Would you like to rename 'Fizz'? ('Yes' or 'No'): 435\n"
     ]
    },
    {
     "name": "stdout",
     "output_type": "stream",
     "text": [
      "\n",
      "Please enter a valid 'Yes' or 'No'.\n",
      "\n"
     ]
    },
    {
     "name": "stdin",
     "output_type": "stream",
     "text": [
      "Would you like to rename 'Fizz'? ('Yes' or 'No'): Yes\n",
      "What would you like to rename it to? : Fizzy\n",
      "Would you like to rename 'Buzz'? ('Yes' or 'No'): y\n",
      "What would you like to rename it to? : Buzzy\n"
     ]
    },
    {
     "name": "stdout",
     "output_type": "stream",
     "text": [
      "\n",
      "So is it Fizzy, Buzzy or FizzyBuzzy:\n",
      "1\n",
      "2: Fizzy\n",
      "3: Buzzy\n",
      "4: Fizzy\n",
      "5\n",
      "6: FizzyBuzzy\n",
      "7\n",
      "8: Fizzy\n",
      "9: Buzzy\n",
      "10: Fizzy\n",
      "11\n",
      "12: FizzyBuzzy\n",
      "13\n",
      "14: Fizzy\n",
      "15: Buzzy\n"
     ]
    },
    {
     "name": "stdin",
     "output_type": "stream",
     "text": [
      "\n",
      "Would you like to play again? Please enter 'Yes' or 'No':\n",
      " yes\n"
     ]
    },
    {
     "name": "stdout",
     "output_type": "stream",
     "text": [
      "\n",
      "            ************************************************************************************************\n",
      "            \n",
      "            ░█████╗░██╗░░░██╗░██████╗████████╗░█████╗░███╗░░░███╗██╗███████╗░█████╗░██████╗░██╗░░░░░███████╗\n",
      "            ██╔══██╗██║░░░██║██╔════╝╚══██╔══╝██╔══██╗████╗░████║██║╚════██║██╔══██╗██╔══██╗██║░░░░░██╔════╝\n",
      "            ██║░░╚═╝██║░░░██║╚█████╗░░░░██║░░░██║░░██║██╔████╔██║██║░░███╔═╝███████║██████╦╝██║░░░░░█████╗░░\n",
      "            ██║░░██╗██║░░░██║░╚═══██╗░░░██║░░░██║░░██║██║╚██╔╝██║██║██╔══╝░░██╔══██║██╔══██╗██║░░░░░██╔══╝░░\n",
      "            ╚█████╔╝╚██████╔╝██████╔╝░░░██║░░░╚█████╔╝██║░╚═╝░██║██║███████╗██║░░██║██████╦╝███████╗███████╗\n",
      "            ░╚════╝░░╚═════╝░╚═════╝░░░░╚═╝░░░░╚════╝░╚═╝░░░░░╚═╝╚═╝╚══════╝╚═╝░░╚═╝╚═════╝░╚══════╝╚══════╝\n",
      "            \n",
      "                              ███████╗██╗███████╗███████╗██████╗░██╗░░░██╗███████╗███████╗\n",
      "                              ██╔════╝██║╚════██║╚════██║██╔══██╗██║░░░██║╚════██║╚════██║\n",
      "                              █████╗░░██║░░███╔═╝░░███╔═╝██████╦╝██║░░░██║░░███╔═╝░░███╔═╝\n",
      "                              ██╔══╝░░██║██╔══╝░░██╔══╝░░██╔══██╗██║░░░██║██╔══╝░░██╔══╝░░\n",
      "                              ██║░░░░░██║███████╗███████╗██████╦╝╚██████╔╝███████╗███████╗\n",
      "                              ╚═╝░░░░░╚═╝╚══════╝╚══════╝╚═════╝░░╚═════╝░╚══════╝╚══════╝\n",
      "            ************************************************************************************************\n",
      "            \n",
      "            Welcome to the Customizable FizzBuzz Generator!\n",
      "            \n",
      "            How to play:\n",
      "            1. Input the starting and ending number for the range.\n",
      "            2. Choose 2 divisors, one for Fizz and the other for Buzz.\n",
      "            3. Decide if you want your own customized word for Fizz and Buzz.\n",
      "            4. Your list will be generated!\n",
      "            \n"
     ]
    },
    {
     "name": "stdin",
     "output_type": "stream",
     "text": [
      "Please enter the starting number: 1\n",
      "Please enter the ending number: 15\n"
     ]
    },
    {
     "name": "stdout",
     "output_type": "stream",
     "text": [
      "\n"
     ]
    },
    {
     "name": "stdin",
     "output_type": "stream",
     "text": [
      "Please enter the first divisor: 3\n",
      "Please enter the second divisor: 5\n"
     ]
    },
    {
     "name": "stdout",
     "output_type": "stream",
     "text": [
      "\n"
     ]
    },
    {
     "name": "stdin",
     "output_type": "stream",
     "text": [
      "Would you like to rename 'Fizz'? ('Yes' or 'No'): No\n",
      "Would you like to rename 'Buzz'? ('Yes' or 'No'): n\n"
     ]
    },
    {
     "name": "stdout",
     "output_type": "stream",
     "text": [
      "\n",
      "So is it Fizz, Buzz or FizzBuzz:\n",
      "1\n",
      "2\n",
      "3: Fizz\n",
      "4\n",
      "5: Buzz\n",
      "6: Fizz\n",
      "7\n",
      "8\n",
      "9: Fizz\n",
      "10: Buzz\n",
      "11\n",
      "12: Fizz\n",
      "13\n",
      "14\n",
      "15: FizzBuzz\n"
     ]
    },
    {
     "name": "stdin",
     "output_type": "stream",
     "text": [
      "\n",
      "Would you like to play again? Please enter 'Yes' or 'No':\n",
      " No\n"
     ]
    },
    {
     "name": "stdout",
     "output_type": "stream",
     "text": [
      "Okay, Goodbye!\n"
     ]
    }
   ],
   "source": [
    "def main():\n",
    "    def banner():\n",
    "        \"\"\"Generate Banner for visual with game play instructions.\"\"\"\n",
    "        print('''\n",
    "            ************************************************************************************************\n",
    "            \n",
    "            ░█████╗░██╗░░░██╗░██████╗████████╗░█████╗░███╗░░░███╗██╗███████╗░█████╗░██████╗░██╗░░░░░███████╗\n",
    "            ██╔══██╗██║░░░██║██╔════╝╚══██╔══╝██╔══██╗████╗░████║██║╚════██║██╔══██╗██╔══██╗██║░░░░░██╔════╝\n",
    "            ██║░░╚═╝██║░░░██║╚█████╗░░░░██║░░░██║░░██║██╔████╔██║██║░░███╔═╝███████║██████╦╝██║░░░░░█████╗░░\n",
    "            ██║░░██╗██║░░░██║░╚═══██╗░░░██║░░░██║░░██║██║╚██╔╝██║██║██╔══╝░░██╔══██║██╔══██╗██║░░░░░██╔══╝░░\n",
    "            ╚█████╔╝╚██████╔╝██████╔╝░░░██║░░░╚█████╔╝██║░╚═╝░██║██║███████╗██║░░██║██████╦╝███████╗███████╗\n",
    "            ░╚════╝░░╚═════╝░╚═════╝░░░░╚═╝░░░░╚════╝░╚═╝░░░░░╚═╝╚═╝╚══════╝╚═╝░░╚═╝╚═════╝░╚══════╝╚══════╝\n",
    "            \n",
    "                              ███████╗██╗███████╗███████╗██████╗░██╗░░░██╗███████╗███████╗\n",
    "                              ██╔════╝██║╚════██║╚════██║██╔══██╗██║░░░██║╚════██║╚════██║\n",
    "                              █████╗░░██║░░███╔═╝░░███╔═╝██████╦╝██║░░░██║░░███╔═╝░░███╔═╝\n",
    "                              ██╔══╝░░██║██╔══╝░░██╔══╝░░██╔══██╗██║░░░██║██╔══╝░░██╔══╝░░\n",
    "                              ██║░░░░░██║███████╗███████╗██████╦╝╚██████╔╝███████╗███████╗\n",
    "                              ╚═╝░░░░░╚═╝╚══════╝╚══════╝╚═════╝░░╚═════╝░╚══════╝╚══════╝\n",
    "            ************************************************************************************************\n",
    "            \n",
    "            Welcome to the Customizable FizzBuzz Generator!\n",
    "            \n",
    "            How to play:\n",
    "            1. Input the starting and ending number for the range.\n",
    "            2. Choose 2 divisors, one for Fizz and the other for Buzz.\n",
    "            3. Decide if you want your own customized word for Fizz and Buzz.\n",
    "            4. Your list will be generated!\n",
    "            ''')\n",
    "        \n",
    "    def get_input(user_prompt):\n",
    "        \"\"\"Get and validate integer input from user.\"\"\"\n",
    "        while True:\n",
    "            try:\n",
    "                return int(input(user_prompt))\n",
    "            except ValueError:\n",
    "                print(\"\\nPlease enter a valid number\\n\")\n",
    "    \n",
    "    def get_user_fizzbuzz(user_prompt, default):\n",
    "        \"\"\"Let user customize FizzBuzz with their own words.\"\"\"\n",
    "        while True:\n",
    "            user_choice = str(input(user_prompt)).strip().lower()\n",
    "            if user_choice in (\"no\", \"n\"):\n",
    "                return default\n",
    "            elif user_choice in (\"yes\", \"y\"):\n",
    "                return input(\"What would you like to rename it to? :\")\n",
    "            else:\n",
    "                print(\"\\nPlease enter a valid 'Yes' or 'No'.\\n\")\n",
    "        \n",
    "    def start_end_check(start, end):\n",
    "        \"\"\"Check if the starting number is > than the ending number\"\"\"\n",
    "        if start > end:\n",
    "            print(\"\\nYour starting number cannot be bigger than the ending number!\\n\")\n",
    "            return False\n",
    "        return True\n",
    "                \n",
    "    def divisor_check(div_one, div_two):\n",
    "        \"\"\"Check if both divisors are the same number or if any of them is 0.\"\"\"\n",
    "        if div_one == div_two:\n",
    "            print(\"\\nBoth divisors cannot be the same number, please try again.\\n\")\n",
    "            return False\n",
    "        if div_one == 0 or div_two == 0:\n",
    "            print(\"\\nDivisors cannot be zero!\\n\")\n",
    "            return False\n",
    "        return True\n",
    "    \n",
    "    def fizz_buzz(start, end, div_one, div_two, fizz_is, buzz_is):\n",
    "        \"\"\"Generate FizzBuzz sequence result based on user input.\"\"\"\n",
    "        print(f\"\\nSo is it {fizz_is}, {buzz_is} or {fizz_is}{buzz_is}:\")\n",
    "        for i in range(start, end + 1):\n",
    "            if i % div_one == 0 and i % div_two == 0:\n",
    "                print(f\"{i}: {fizz_is}{buzz_is}\")\n",
    "            elif i % div_one == 0:\n",
    "                print(f\"{i}: {fizz_is}\")\n",
    "            elif i % div_two == 0:\n",
    "                print(f\"{i}: {buzz_is}\")\n",
    "            else:\n",
    "                print(i)\n",
    "\n",
    "    def play_again(user_prompt):\n",
    "        \"\"\"Let user decide to continue or end the program.\"\"\"\n",
    "        user_choice = str(input(user_prompt)).strip().lower()\n",
    "        if user_choice in (\"no\", \"n\"):\n",
    "            return False\n",
    "        elif user_choice in (\"yes\", \"y\"):\n",
    "            return True\n",
    "        else:\n",
    "            print(\"\\nPlease enter a valid 'Yes' or 'No'.\\n\")\n",
    "    \n",
    "    while True:\n",
    "        banner()\n",
    "        fizz = \"Fizz\"\n",
    "        buzz = \"Buzz\"\n",
    "\n",
    "        # Get and validate user input\n",
    "        while True:\n",
    "            user_start = get_input(\"Please enter the starting number:\")\n",
    "            user_end = get_input(\"Please enter the ending number:\")\n",
    "            if start_end_check(user_start, user_end):\n",
    "                break\n",
    "    \n",
    "        print(\"\")\n",
    "        while True:\n",
    "            first_div = get_input(\"Please enter the first divisor:\")\n",
    "            second_div = get_input(\"Please enter the second divisor:\")\n",
    "            if divisor_check(first_div, second_div):\n",
    "                break\n",
    "    \n",
    "        print(\"\")\n",
    "        fizz_is = get_user_fizzbuzz(\"Would you like to rename 'Fizz'? ('Yes' or 'No'):\", fizz)\n",
    "        buzz_is = get_user_fizzbuzz(\"Would you like to rename 'Buzz'? ('Yes' or 'No'):\", buzz)\n",
    "\n",
    "        # Execute FizzBuzz sequence based on user input\n",
    "        fizz_buzz(user_start, user_end, first_div, second_div, fizz_is, buzz_is)\n",
    "\n",
    "        # Continue or end\n",
    "        if not play_again(\"\\nWould you like to play again? Please enter 'Yes' or 'No':\\n\"):\n",
    "            print(\"Okay, Goodbye!\")\n",
    "            break\n",
    "\n",
    "if __name__ == \"__main__\":\n",
    "    main()"
   ]
  },
  {
   "cell_type": "markdown",
   "id": "a67b5d96-4dab-4cc9-94f0-8e9abf1b52b8",
   "metadata": {},
   "source": [
    "# Reflections\n",
    "1. Used modular design by splitting the program into multiple functions such as `banner()`, `fizz_buzz()`, etc.\n",
    "2. Applied input validations and checks using `try`/`except` and functions such as `start_end_check()`, `divisor_check`, etc.\n",
    "3. Allowed all aspect of FizzBuzz to be customizable, including divisors and even the **FizzBuzz** output.\n",
    "4. Built a loop with option for user to replay or end the program.\n",
    "5. Documented each function with docstring for clarity when coming back to the program in the future."
   ]
  },
  {
   "cell_type": "markdown",
   "id": "a4524a05-8e01-4729-acdb-bc33358c2817",
   "metadata": {},
   "source": [
    "# Next Steps\n",
    "1. Expand `fizz_buzz()` to return a list instead of printing each line of result.\n",
    "2. Offer a **random mode** where user can choose to let the program come up with the range and/or custom words.\n",
    "3. Add color to the result output.\n",
    "4. Add a help menu and showing the instructions in greater detail."
   ]
  },
  {
   "cell_type": "code",
   "execution_count": null,
   "id": "1a1a7c9c-5631-4a8d-8fdb-ff4bb2ec6956",
   "metadata": {},
   "outputs": [],
   "source": []
  }
 ],
 "metadata": {
  "kernelspec": {
   "display_name": "Python [conda env:base] *",
   "language": "python",
   "name": "conda-base-py"
  },
  "language_info": {
   "codemirror_mode": {
    "name": "ipython",
    "version": 3
   },
   "file_extension": ".py",
   "mimetype": "text/x-python",
   "name": "python",
   "nbconvert_exporter": "python",
   "pygments_lexer": "ipython3",
   "version": "3.12.7"
  }
 },
 "nbformat": 4,
 "nbformat_minor": 5
}
